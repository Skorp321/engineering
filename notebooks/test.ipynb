{
 "cells": [
  {
   "cell_type": "code",
   "execution_count": 7,
   "metadata": {},
   "outputs": [],
   "source": [
    "import xml.etree.ElementTree as ET\n",
    "from PIL import Image\n",
    "import os\n",
    "import pandas as pd\n",
    "import numpy as np\n",
    "from tqdm import tqdm\n",
    "import math"
   ]
  },
  {
   "cell_type": "code",
   "execution_count": 8,
   "metadata": {},
   "outputs": [],
   "source": [
    "anno_path = \"/home/skorp321/Projects/engineering/data/plechanovo/annotations.xml\""
   ]
  },
  {
   "cell_type": "code",
   "execution_count": 19,
   "metadata": {},
   "outputs": [
    {
     "name": "stdout",
     "output_type": "stream",
     "text": [
      "0\n",
      "1540\n",
      "1\n",
      "5240\n",
      "2\n",
      "0\n",
      "3\n",
      "0\n",
      "4\n",
      "0\n",
      "5\n",
      "0\n",
      "6\n",
      "0\n",
      "7\n",
      "0\n"
     ]
    }
   ],
   "source": [
    "tree = ET.parse(anno_path)\n",
    "\n",
    "# Получим корневой элемент XML файла\n",
    "root = tree.getroot()\n",
    "\n",
    "for image in root.findall(\"track\"):\n",
    "    id = image.get('id')\n",
    "    label = image.find('label').text\n",
    "    for item in image:\n",
    "        item.get('frame')\n",
    "        break"
   ]
  },
  {
   "cell_type": "code",
   "execution_count": 26,
   "metadata": {},
   "outputs": [
    {
     "name": "stderr",
     "output_type": "stream",
     "text": [
      "100%|██████████| 4/4 [00:00<00:00, 59918.63it/s]"
     ]
    },
    {
     "name": "stdout",
     "output_type": "stream",
     "text": [
      "Blackriver\n",
      "Yarick\n",
      "Plechanovo\n",
      "Businovo\n"
     ]
    },
    {
     "name": "stderr",
     "output_type": "stream",
     "text": [
      "\n"
     ]
    }
   ],
   "source": [
    "import re\n",
    "\n",
    "\n",
    "anno_path = '/home/skorp321/Projects/engineering/data/anno'\n",
    "\n",
    "files  = os.listdir(anno_path)\n",
    "\n",
    "for file in tqdm(files):\n",
    "\n",
    "    file = file.replace('_', \"\")\n",
    "    result = re.sub(r'\\d.*', '', file)\n",
    "    folder_name = result.capitalize()\n",
    "\n",
    "    print(folder_name)  # Output: \"abc\""
   ]
  },
  {
   "cell_type": "code",
   "execution_count": 1,
   "metadata": {},
   "outputs": [
    {
     "data": {
      "text/html": [
       "<div>\n",
       "<style scoped>\n",
       "    .dataframe tbody tr th:only-of-type {\n",
       "        vertical-align: middle;\n",
       "    }\n",
       "\n",
       "    .dataframe tbody tr th {\n",
       "        vertical-align: top;\n",
       "    }\n",
       "\n",
       "    .dataframe thead th {\n",
       "        text-align: right;\n",
       "    }\n",
       "</style>\n",
       "<table border=\"1\" class=\"dataframe\">\n",
       "  <thead>\n",
       "    <tr style=\"text-align: right;\">\n",
       "      <th></th>\n",
       "      <th>0</th>\n",
       "      <th>1</th>\n",
       "    </tr>\n",
       "  </thead>\n",
       "  <tbody>\n",
       "    <tr>\n",
       "      <th>0</th>\n",
       "      <td>data/outputs/video/splits/towel_id_14_12/video...</td>\n",
       "      <td>0</td>\n",
       "    </tr>\n",
       "    <tr>\n",
       "      <th>1</th>\n",
       "      <td>data/outputs/video/splits/towel_id_14_12/video...</td>\n",
       "      <td>0</td>\n",
       "    </tr>\n",
       "    <tr>\n",
       "      <th>2</th>\n",
       "      <td>data/outputs/video/splits/towel_id_14_12/video...</td>\n",
       "      <td>0</td>\n",
       "    </tr>\n",
       "    <tr>\n",
       "      <th>3</th>\n",
       "      <td>data/outputs/video/splits/towel_id_19_13/video...</td>\n",
       "      <td>0</td>\n",
       "    </tr>\n",
       "    <tr>\n",
       "      <th>4</th>\n",
       "      <td>data/outputs/video/splits/towel_id_1_1/video_1...</td>\n",
       "      <td>0</td>\n",
       "    </tr>\n",
       "    <tr>\n",
       "      <th>...</th>\n",
       "      <td>...</td>\n",
       "      <td>...</td>\n",
       "    </tr>\n",
       "    <tr>\n",
       "      <th>313</th>\n",
       "      <td>data/outputs/video/splits/towel_id_84_122/vide...</td>\n",
       "      <td>1</td>\n",
       "    </tr>\n",
       "    <tr>\n",
       "      <th>314</th>\n",
       "      <td>data/outputs/video/splits/towel_id_84_122/vide...</td>\n",
       "      <td>1</td>\n",
       "    </tr>\n",
       "    <tr>\n",
       "      <th>315</th>\n",
       "      <td>data/outputs/video/splits/towel_id_84_126/vide...</td>\n",
       "      <td>0</td>\n",
       "    </tr>\n",
       "    <tr>\n",
       "      <th>316</th>\n",
       "      <td>data/outputs/video/splits/towel_id_84_126/vide...</td>\n",
       "      <td>1</td>\n",
       "    </tr>\n",
       "    <tr>\n",
       "      <th>317</th>\n",
       "      <td>data/outputs/video/splits/towel_id_84_126/vide...</td>\n",
       "      <td>1</td>\n",
       "    </tr>\n",
       "  </tbody>\n",
       "</table>\n",
       "<p>318 rows × 2 columns</p>\n",
       "</div>"
      ],
      "text/plain": [
       "                                                     0  1\n",
       "0    data/outputs/video/splits/towel_id_14_12/video...  0\n",
       "1    data/outputs/video/splits/towel_id_14_12/video...  0\n",
       "2    data/outputs/video/splits/towel_id_14_12/video...  0\n",
       "3    data/outputs/video/splits/towel_id_19_13/video...  0\n",
       "4    data/outputs/video/splits/towel_id_1_1/video_1...  0\n",
       "..                                                 ... ..\n",
       "313  data/outputs/video/splits/towel_id_84_122/vide...  1\n",
       "314  data/outputs/video/splits/towel_id_84_122/vide...  1\n",
       "315  data/outputs/video/splits/towel_id_84_126/vide...  0\n",
       "316  data/outputs/video/splits/towel_id_84_126/vide...  1\n",
       "317  data/outputs/video/splits/towel_id_84_126/vide...  1\n",
       "\n",
       "[318 rows x 2 columns]"
      ]
     },
     "execution_count": 1,
     "metadata": {},
     "output_type": "execute_result"
    }
   ],
   "source": [
    "import pandas as pd\n",
    "\n",
    "df = pd.read_csv('../data/outputs/video/splits/names.csv')\n",
    "\n",
    "df"
   ]
  },
  {
   "cell_type": "code",
   "execution_count": null,
   "metadata": {},
   "outputs": [],
   "source": []
  }
 ],
 "metadata": {
  "kernelspec": {
   "display_name": ".venv",
   "language": "python",
   "name": "python3"
  },
  "language_info": {
   "codemirror_mode": {
    "name": "ipython",
    "version": 3
   },
   "file_extension": ".py",
   "mimetype": "text/x-python",
   "name": "python",
   "nbconvert_exporter": "python",
   "pygments_lexer": "ipython3",
   "version": "3.10.12"
  }
 },
 "nbformat": 4,
 "nbformat_minor": 2
}
