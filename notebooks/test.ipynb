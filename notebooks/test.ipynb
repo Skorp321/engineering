{
 "cells": [
  {
   "cell_type": "code",
   "execution_count": 7,
   "metadata": {},
   "outputs": [],
   "source": [
    "import xml.etree.ElementTree as ET\n",
    "from PIL import Image\n",
    "import os\n",
    "import pandas as pd\n",
    "import numpy as np\n",
    "from tqdm import tqdm\n",
    "import math"
   ]
  },
  {
   "cell_type": "code",
   "execution_count": 8,
   "metadata": {},
   "outputs": [],
   "source": [
    "anno_path = \"/home/skorp321/Projects/engineering/data/plechanovo/annotations.xml\""
   ]
  },
  {
   "cell_type": "code",
   "execution_count": 19,
   "metadata": {},
   "outputs": [
    {
     "name": "stdout",
     "output_type": "stream",
     "text": [
      "0\n",
      "1540\n",
      "1\n",
      "5240\n",
      "2\n",
      "0\n",
      "3\n",
      "0\n",
      "4\n",
      "0\n",
      "5\n",
      "0\n",
      "6\n",
      "0\n",
      "7\n",
      "0\n"
     ]
    }
   ],
   "source": [
    "tree = ET.parse(anno_path)\n",
    "\n",
    "# Получим корневой элемент XML файла\n",
    "root = tree.getroot()\n",
    "\n",
    "for image in root.findall(\"track\"):\n",
    "    id = image.get('id')\n",
    "    label = image.find('label').text\n",
    "    for item in image:\n",
    "        item.get('frame')\n",
    "        break"
   ]
  },
  {
   "cell_type": "code",
   "execution_count": 26,
   "metadata": {},
   "outputs": [
    {
     "name": "stderr",
     "output_type": "stream",
     "text": [
      "100%|██████████| 4/4 [00:00<00:00, 59918.63it/s]"
     ]
    },
    {
     "name": "stdout",
     "output_type": "stream",
     "text": [
      "Blackriver\n",
      "Yarick\n",
      "Plechanovo\n",
      "Businovo\n"
     ]
    },
    {
     "name": "stderr",
     "output_type": "stream",
     "text": [
      "\n"
     ]
    }
   ],
   "source": [
    "import re\n",
    "\n",
    "\n",
    "anno_path = '/home/skorp321/Projects/engineering/data/anno'\n",
    "\n",
    "files  = os.listdir(anno_path)\n",
    "\n",
    "for file in tqdm(files):\n",
    "\n",
    "    file = file.replace('_', \"\")\n",
    "    result = re.sub(r'\\d.*', '', file)\n",
    "    folder_name = result.capitalize()\n",
    "\n",
    "    print(folder_name)  # Output: \"abc\""
   ]
  },
  {
   "cell_type": "code",
   "execution_count": null,
   "metadata": {},
   "outputs": [],
   "source": []
  }
 ],
 "metadata": {
  "kernelspec": {
   "display_name": ".venv",
   "language": "python",
   "name": "python3"
  },
  "language_info": {
   "codemirror_mode": {
    "name": "ipython",
    "version": 3
   },
   "file_extension": ".py",
   "mimetype": "text/x-python",
   "name": "python",
   "nbconvert_exporter": "python",
   "pygments_lexer": "ipython3",
   "version": "3.10.12"
  }
 },
 "nbformat": 4,
 "nbformat_minor": 2
}
